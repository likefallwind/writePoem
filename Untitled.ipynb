{
 "cells": [
  {
   "cell_type": "code",
   "execution_count": 1,
   "metadata": {},
   "outputs": [
    {
     "name": "stdout",
     "output_type": "stream",
     "text": [
      "torch.Size([5, 3, 20])\n",
      "torch.Size([2, 3, 20])\n",
      "torch.Size([2, 3, 20])\n"
     ]
    }
   ],
   "source": [
    "import torch as t\n",
    "from torch import nn\n",
    "from torch.autograd import Variable\n",
    "\n",
    "# 输入词用10维词向量表示\n",
    "# 隐藏元用20维向量表示\n",
    "# 两层的LSTM\n",
    "\n",
    "rnn = nn.LSTM(10,20,2)\n",
    "\n",
    "# 输入每句话有5个词\n",
    "# 每个词由10维的词向量表示\n",
    "# 总共有3句话（batch-size）\n",
    "input = Variable(t.randn(5,3,10))\n",
    "\n",
    "\n",
    "# 隐藏元（hidden state和cell state）的初始值\n",
    "# 形状（num_layers,batch_size,hidden_size）\n",
    "h0 = Variable(t.zeros(2,3,20))\n",
    "c0 = Variable(t.zeros(2,3,20))\n",
    "\n",
    "# output是最后一层所有隐藏元的值\n",
    "# hn和cn是所有层（这里有2层）的最后一个隐藏元的值\n",
    "output,(hn,cn) = rnn(input,(h0,c0))\n",
    "\n",
    "print(output.size())\n",
    "print(hn.size())\n",
    "print(cn.size())\n",
    "\n"
   ]
  },
  {
   "cell_type": "code",
   "execution_count": 3,
   "metadata": {},
   "outputs": [
    {
     "name": "stdout",
     "output_type": "stream",
     "text": [
      "</s></s></s></s></s></s></s></s></s></s></s></s></s></s></s></s></s></s></s></s></s></s></s></s></s></s></s></s></s></s></s></s></s></s></s></s></s></s></s></s></s></s></s></s></s></s></s></s></s></s></s></s></s></s></s></s></s></s></s></s></s></s></s></s></s></s></s></s></s></s></s></s></s></s></s><START>度门能不访，冒雪屡西东。已想人如玉，遥怜马似骢。乍迷金谷路，稍变上阳宫。还比相思意，纷纷正满空。<EOP>\n"
     ]
    }
   ],
   "source": [
    "import numpy as np\n",
    "\n",
    "# 加载数据\n",
    "datas = np.load('tang.npz', allow_pickle=True)\n",
    "data = datas['data']\n",
    "ix2word = datas['ix2word'].item()\n",
    "\n",
    "# 查看第一首诗歌\n",
    "poem = data[0]\n",
    "# 词序号转成对应的汉字\n",
    "poem_txt = [ix2word[ii] for ii in poem]\n",
    "\n",
    "print(''.join(poem_txt))\n"
   ]
  },
  {
   "cell_type": "code",
   "execution_count": null,
   "metadata": {},
   "outputs": [],
   "source": []
  }
 ],
 "metadata": {
  "kernelspec": {
   "display_name": "Python 3",
   "language": "python",
   "name": "python3"
  },
  "language_info": {
   "codemirror_mode": {
    "name": "ipython",
    "version": 3
   },
   "file_extension": ".py",
   "mimetype": "text/x-python",
   "name": "python",
   "nbconvert_exporter": "python",
   "pygments_lexer": "ipython3",
   "version": "3.7.3"
  }
 },
 "nbformat": 4,
 "nbformat_minor": 2
}
